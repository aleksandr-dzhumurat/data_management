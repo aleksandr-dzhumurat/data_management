{
 "cells": [
  {
   "cell_type": "code",
   "execution_count": 1,
   "id": "3b1e5629",
   "metadata": {},
   "outputs": [
    {
     "name": "stderr",
     "output_type": "stream",
     "text": [
      "OpenBLAS WARNING - could not determine the L2 cache size on this system, assuming 256k\n",
      "OpenBLAS WARNING - could not determine the L2 cache size on this system, assuming 256k\n"
     ]
    }
   ],
   "source": [
    "import mlflow\n",
    "import mlflow.sklearn\n",
    "from sklearn.datasets import load_iris\n",
    "from sklearn.model_selection import train_test_split\n",
    "from sklearn.ensemble import RandomForestClassifier\n",
    "from sklearn.metrics import accuracy_score\n",
    "\n",
    "\n",
    "mlflow.set_tracking_uri(\"http://mlflow_container_ui:8000\")"
   ]
  },
  {
   "cell_type": "code",
   "execution_count": 5,
   "id": "fd32e0cb",
   "metadata": {},
   "outputs": [
    {
     "name": "stdout",
     "output_type": "stream",
     "text": [
      "[*] minio url:  s3:9000\n",
      "S3 operation failed; code: BucketAlreadyOwnedByYou, message: Your previous request to create the named bucket succeeded and you already own it., resource: /mlflow, request_id: 17C3FD1101D552EF, host_id: a9d04103-dbf3-4f7b-92b5-a71419f7056c, bucket_name: mlflow\n",
      "buckercreated: mlflow\n"
     ]
    }
   ],
   "source": [
    "import os\n",
    "\n",
    "from minio import Minio\n",
    "from minio.error import InvalidResponseError, S3Error\n",
    "\n",
    "accessID = os.environ.get('AWS_ACCESS_KEY_ID')\n",
    "accessSecret =  os.environ.get('AWS_SECRET_ACCESS_KEY')\n",
    "minioUrl =  os.environ.get('MLFLOW_S3_ENDPOINT_URL')\n",
    "bucketName =  os.environ.get('AWS_BUCKET_NAME')\n",
    "\n",
    "if  None in (accessID, accessSecret, minioUrl, bucketName):\n",
    "    print(\"\"\"\n",
    "        [!] environment variable is empty! run \\'source .env\\' to load it from the .env file\n",
    "        AWS_ACCESS_KEY_ID=\n",
    "        AWS_SECRET_ACCESS_KEY=\n",
    "        MLFLOW_S3_ENDPOINT_URL=\n",
    "        AWS_BUCKET_NAME=\n",
    "    \"\"\" % (accessID, accessSecret, minioUrl, bucketName))\n",
    "    raise RuntimeError\n",
    "\n",
    "minioUrlHostWithPort = minioUrl.split('//')[1]\n",
    "print('[*] minio url: ',minioUrlHostWithPort)\n",
    "\n",
    "s3Client = Minio(\n",
    "    minioUrlHostWithPort,\n",
    "    access_key=accessID,\n",
    "    secret_key=accessSecret,\n",
    "    secure=False\n",
    ")\n",
    "\n",
    "try:\n",
    "    s3Client.make_bucket(bucketName)\n",
    "except S3Error as e:\n",
    "    print(e)\n",
    "\n",
    "print(f\"buckercreated: {bucketName}\")"
   ]
  },
  {
   "cell_type": "code",
   "execution_count": 6,
   "id": "c456efc3",
   "metadata": {},
   "outputs": [
    {
     "name": "stdout",
     "output_type": "stream",
     "text": [
      "2\n"
     ]
    }
   ],
   "source": [
    "from mlflow.exceptions import RestException\n",
    "\n",
    "experiment_name = \"iris_experiment\"\n",
    "\n",
    "try:\n",
    "    experiment_id = mlflow.create_experiment(experiment_name)\n",
    "except RestException as e:\n",
    "    print(e)\n",
    "    experiment = mlflow.get_experiment_by_name(experiment_name)\n",
    "    experiment_id = experiment.experiment_id\n",
    "\n",
    "print(experiment_id)"
   ]
  },
  {
   "cell_type": "code",
   "execution_count": 7,
   "id": "da878bca",
   "metadata": {},
   "outputs": [
    {
     "name": "stdout",
     "output_type": "stream",
     "text": [
      "s3://mlflow/2/3a6e0984ebbf45a1b0a2ec5e61770e0c/artifacts\n",
      "Load the Iris dataset and training classifier\n",
      "Log the model to S3\n"
     ]
    }
   ],
   "source": [
    "import joblib\n",
    "\n",
    "model_directory = \"/srv/data\"\n",
    "model_filename = \"random_forest_model.joblib\"\n",
    "\n",
    "model_path = f\"{model_directory}/{model_filename}\"\n",
    "\n",
    "\n",
    "with mlflow.start_run(run_name=\"last_run\", experiment_id=experiment_id):\n",
    "    artifact_uri = mlflow.get_artifact_uri()\n",
    "    print(artifact_uri)\n",
    "    print('Load the Iris dataset and training classifier')\n",
    "    data = load_iris()\n",
    "    X, y = data.data, data.target\n",
    "\n",
    "    # Split the data into training and testing sets\n",
    "    X_train, X_test, y_train, y_test = train_test_split(X, y, test_size=0.2, random_state=42)\n",
    "\n",
    "    # Create and train a random forest classifier\n",
    "    model = RandomForestClassifier(n_estimators=100)\n",
    "    model.fit(X_train, y_train)\n",
    "    \n",
    "    joblib.dump(model, model_path)\n",
    "    # Make predictions\n",
    "    y_pred = model.predict(X_test)\n",
    "\n",
    "    # Calculate and log accuracy\n",
    "    accuracy = accuracy_score(y_test, y_pred)\n",
    "    mlflow.log_metric(\"accuracy\", accuracy)\n",
    "\n",
    "    print('Log the model to S3')\n",
    "    mlflow.sklearn.log_model(model, \"model\")\n",
    "    mlflow.log_artifact(model_path) # , artifact_path = \"model\"\n"
   ]
  },
  {
   "cell_type": "code",
   "execution_count": null,
   "id": "0dff732b",
   "metadata": {},
   "outputs": [],
   "source": []
  },
  {
   "cell_type": "code",
   "execution_count": null,
   "id": "9be30305",
   "metadata": {},
   "outputs": [],
   "source": []
  }
 ],
 "metadata": {
  "kernelspec": {
   "display_name": "Python 3 (ipykernel)",
   "language": "python",
   "name": "python3"
  },
  "language_info": {
   "codemirror_mode": {
    "name": "ipython",
    "version": 3
   },
   "file_extension": ".py",
   "mimetype": "text/x-python",
   "name": "python",
   "nbconvert_exporter": "python",
   "pygments_lexer": "ipython3",
   "version": "3.12.2"
  }
 },
 "nbformat": 4,
 "nbformat_minor": 5
}
